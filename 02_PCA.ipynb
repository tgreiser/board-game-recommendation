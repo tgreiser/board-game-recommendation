{
 "cells": [
  {
   "cell_type": "code",
   "execution_count": 61,
   "metadata": {
    "scrolled": true
   },
   "outputs": [
    {
     "name": "stdout",
     "output_type": "stream",
     "text": [
      "[0 1 2 ..., 8 9 8]\n"
     ]
    },
    {
     "data": {
      "image/png": "[encoded data removed]",
      "text/plain": [
       "<matplotlib.figure.Figure at 0x2b8b9426be0>"
      ]
     },
     "metadata": {},
     "output_type": "display_data"
    }
   ],
   "source": [
    "%matplotlib inline\n",
    "import numpy as np\n",
    "import matplotlib.pyplot as plt\n",
    "import matplotlib as mpl\n",
    "import seaborn as sns; sns.set()\n",
    "import pandas as pd\n",
    "from sklearn.decomposition import PCA\n",
    "\n",
    "pd.set_option('display.float_format', lambda x: '%.3f' % x)\n",
    "pd.options.display.max_rows = 100\n",
    "\n",
    "# load the boardgame rating data, set boardgame ID as index\n",
    "rawdata = pd.read_csv('boardgame-elite-users.csv', index_col=\"rating\")\n",
    "rawdata=rawdata.rename(columns = {\"Compiled from boardgamegeek.com by Matt Borthwick\":'userID'})\n",
    "del rawdata['userID']\n",
    "X = pd.get_dummies(rawdata, columns=['gameID'])\n",
    "\n",
    "#print(X.sample(5))\n",
    "\n",
    "\n",
    "pca2 = PCA().fit(X)\n",
    "plt.plot(np.cumsum(pca2.explained_variance_ratio_))\n",
    "plt.xlabel('number of components')\n",
    "plt.ylabel('cumulative explained variance');\n",
    "\n",
    "# Pull out some results, do PCA on remainder, then compare"
   ]
  },
  {
   "cell_type": "code",
   "execution_count": null,
   "metadata": {},
   "outputs": [],
   "source": [
    "#from sklearn.datasets import load_digits\n",
    "#digits = load_digits()\n",
    "#print(digits.target)\n",
    "#target = np.array(rawdata.index)\n",
    "\n",
    "#pca = PCA(2)\n",
    "#projected = pca.fit_transform(X)\n",
    "#X_pca = pca.transform(X)\n",
    "#print(\"original shape:   \", X.shape)\n",
    "#print(\"transformed shape:\", X_pca.shape)\n",
    "\n",
    "#plt.scatter(projected[:, 0], projected[:, 1],\n",
    "#            edgecolor='none', alpha=0.5,\n",
    "#            c=target,\n",
    "#            cmap=plt.cm.get_cmap('nipy_spectral', 10))\n",
    "#plt.xlabel('component 1')\n",
    "#plt.ylabel('component 2')\n",
    "#plt.colorbar();"
   ]
  },
  {
   "cell_type": "code",
   "execution_count": null,
   "metadata": {
    "collapsed": true
   },
   "outputs": [],
   "source": []
  },
  {
   "cell_type": "code",
   "execution_count": null,
   "metadata": {
    "collapsed": true
   },
   "outputs": [],
   "source": []
  },
  {
   "cell_type": "code",
   "execution_count": null,
   "metadata": {
    "collapsed": true
   },
   "outputs": [],
   "source": []
  }
 ],
 "metadata": {
  "kernelspec": {
   "display_name": "Python 3",
   "language": "python",
   "name": "python3"
  },
  "language_info": {
   "codemirror_mode": {
    "name": "ipython",
    "version": 3
   },
   "file_extension": ".py",
   "mimetype": "text/x-python",
   "name": "python",
   "nbconvert_exporter": "python",
   "pygments_lexer": "ipython3",
   "version": "3.6.3"
  }
 },
 "nbformat": 4,
 "nbformat_minor": 2
}
