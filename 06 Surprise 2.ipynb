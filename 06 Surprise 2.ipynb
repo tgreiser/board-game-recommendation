{
 "cells": [
  {
   "cell_type": "code",
   "execution_count": 11,
   "metadata": {},
   "outputs": [
    {
     "name": "stdout",
     "output_type": "stream",
     "text": [
      "Evaluating RMSE, MAE of algorithm KNNBaseline.\n",
      "\n",
      "------------\n",
      "Fold 1\n",
      "Estimating biases using als...\n",
      "Computing the pearson_baseline similarity matrix...\n",
      "Done computing similarity matrix.\n",
      "RMSE: 1.2153\n",
      "MAE:  0.8948\n",
      "------------\n",
      "Fold 2\n",
      "Estimating biases using als...\n",
      "Computing the pearson_baseline similarity matrix...\n",
      "Done computing similarity matrix.\n",
      "RMSE: 1.2182\n",
      "MAE:  0.8992\n",
      "------------\n",
      "Fold 3\n",
      "Estimating biases using als...\n",
      "Computing the pearson_baseline similarity matrix...\n",
      "Done computing similarity matrix.\n",
      "RMSE: 1.2211\n",
      "MAE:  0.8980\n",
      "------------\n",
      "------------\n",
      "Mean RMSE: 1.2182\n",
      "Mean MAE : 0.8973\n",
      "------------\n",
      "------------\n",
      "        Fold 1  Fold 2  Fold 3  Mean    \n",
      "RMSE    1.2153  1.2182  1.2211  1.2182  \n",
      "MAE     0.8948  0.8992  0.8980  0.8973  \n"
     ]
    }
   ],
   "source": [
    "from surprise import *\n",
    "\n",
    "from surprise import Dataset\n",
    "from surprise import evaluate, print_perf\n",
    "from surprise import Reader\n",
    "import pandas as pd\n",
    "from os import path\n",
    "\n",
    "file_path = path.expanduser('./boardgame-frequent-users.csv')\n",
    "\n",
    "#reader = Reader(line_format='userID gameID rating', sep=',', rating_scale=(1, 10))\n",
    "reader = Reader(line_format='user item rating', sep=',', skip_lines=1, rating_scale=(1, 10))\n",
    "data = Dataset.load_from_file(file_path, reader=reader)\n",
    "data.split(n_folds=3)\n",
    "\n",
    "sim_options = {'name': 'pearson_baseline',\n",
    "               'shrinkage': 120\n",
    "              }\n",
    "algo = KNNBaseline(sim_options=sim_options)\n",
    "\n",
    "# Evaluate performances of our algorithm on the dataset.\n",
    "perf = evaluate(algo, data, measures=['RMSE', 'MAE'])\n",
    "\n",
    "print_perf(perf)"
   ]
  },
  {
   "cell_type": "code",
   "execution_count": null,
   "metadata": {
    "collapsed": true
   },
   "outputs": [],
   "source": []
  },
  {
   "cell_type": "code",
   "execution_count": null,
   "metadata": {
    "collapsed": true
   },
   "outputs": [],
   "source": []
  }
 ],
 "metadata": {
  "kernelspec": {
   "display_name": "Python 3",
   "language": "python",
   "name": "python3"
  },
  "language_info": {
   "codemirror_mode": {
    "name": "ipython",
    "version": 3
   },
   "file_extension": ".py",
   "mimetype": "text/x-python",
   "name": "python",
   "nbconvert_exporter": "python",
   "pygments_lexer": "ipython3",
   "version": "3.6.3"
  }
 },
 "nbformat": 4,
 "nbformat_minor": 2
}
