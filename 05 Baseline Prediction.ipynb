{
 "cells": [
  {
   "cell_type": "code",
   "execution_count": 27,
   "metadata": {},
   "outputs": [
    {
     "data": {
      "text/plain": [
       "title    PitchCar\n",
       "Name: 150, dtype: object"
      ]
     },
     "metadata": {},
     "output_type": "display_data"
    },
    {
     "data": {
      "text/plain": [
       "6.9077358490566034"
      ]
     },
     "metadata": {},
     "output_type": "display_data"
    },
    {
     "data": {
      "text/plain": [
       "title    Catan\n",
       "Name: 13, dtype: object"
      ]
     },
     "metadata": {},
     "output_type": "display_data"
    },
    {
     "data": {
      "text/plain": [
       "6.9579381443298969"
      ]
     },
     "metadata": {},
     "output_type": "display_data"
    },
    {
     "data": {
      "text/plain": [
       "title    RoboRally\n",
       "Name: 18, dtype: object"
      ]
     },
     "metadata": {},
     "output_type": "display_data"
    },
    {
     "data": {
      "text/plain": [
       "6.5567222222222226"
      ]
     },
     "metadata": {},
     "output_type": "display_data"
    },
    {
     "data": {
      "text/plain": [
       "title    Risk\n",
       "Name: 181, dtype: object"
      ]
     },
     "metadata": {},
     "output_type": "display_data"
    },
    {
     "data": {
      "text/plain": [
       "4.8068000000000008"
      ]
     },
     "metadata": {},
     "output_type": "display_data"
    },
    {
     "data": {
      "text/plain": [
       "title    Sid Meier's Civilization: The Board Game\n",
       "Name: 77130, dtype: object"
      ]
     },
     "metadata": {},
     "output_type": "display_data"
    },
    {
     "data": {
      "text/plain": [
       "7.0012962962962968"
      ]
     },
     "metadata": {},
     "output_type": "display_data"
    },
    {
     "data": {
      "text/plain": [
       "title    Axis & Allies\n",
       "Name: 98, dtype: object"
      ]
     },
     "metadata": {},
     "output_type": "display_data"
    },
    {
     "data": {
      "text/plain": [
       "5.8316455696202532"
      ]
     },
     "metadata": {},
     "output_type": "display_data"
    }
   ],
   "source": [
    "# Baseline naive prediction\n",
    "#\n",
    "# Return the mean score for a given game.\n",
    "\n",
    "import numpy as np\n",
    "import pandas as pd\n",
    "\n",
    "rawdata = pd.read_csv('boardgame-elite-users.csv')\n",
    "rawdata=rawdata.rename(columns = {\"Compiled from boardgamegeek.com by Matt Borthwick\":'userID'})\n",
    "\n",
    "details = pd.read_csv('boardgame-details.csv')\n",
    "details = details.rename(columns = {\"boardgamegeek.com game ID\": 'gameID'})\n",
    "titles = details.iloc[:,0:2]\n",
    "titles = titles.set_index('gameID')\n",
    "\n",
    "gamedata = rawdata.copy()\n",
    "gamedata = gamedata.groupby(['gameID'])['rating'].mean()\n",
    "\n",
    "def predict(titles, gamedata, gameID):\n",
    "    display(titles.loc[gameID])\n",
    "    display(gamedata[gameID])\n",
    "\n",
    "predict(titles, gamedata, 150)\n",
    "predict(titles, gamedata, 13)\n",
    "predict(titles, gamedata, 18)\n",
    "predict(titles, gamedata, 181)\n",
    "predict(titles, gamedata, 77130)\n",
    "predict(titles, gamedata, 98)"
   ]
  },
  {
   "cell_type": "code",
   "execution_count": null,
   "metadata": {
    "collapsed": true
   },
   "outputs": [],
   "source": []
  }
 ],
 "metadata": {
  "kernelspec": {
   "display_name": "Python 3",
   "language": "python",
   "name": "python3"
  },
  "language_info": {
   "codemirror_mode": {
    "name": "ipython",
    "version": 3
   },
   "file_extension": ".py",
   "mimetype": "text/x-python",
   "name": "python",
   "nbconvert_exporter": "python",
   "pygments_lexer": "ipython3",
   "version": "3.6.3"
  }
 },
 "nbformat": 4,
 "nbformat_minor": 2
}
