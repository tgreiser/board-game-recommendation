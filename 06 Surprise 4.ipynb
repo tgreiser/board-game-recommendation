{
 "cells": [
  {
   "cell_type": "code",
   "execution_count": null,
   "metadata": {},
   "outputs": [
    {
     "name": "stdout",
     "output_type": "stream",
     "text": [
      "[{'n_epochs': 10, 'reg_all': 0.02, 'lr_all': 0.05}, {'n_epochs': 10, 'reg_all': 0.02, 'lr_all': 0.07}]\n",
      "------------\n",
      "Parameters combination 1 of 2\n",
      "params:  {'n_epochs': 10, 'reg_all': 0.02, 'lr_all': 0.05}\n"
     ]
    }
   ],
   "source": [
    "from surprise import *\n",
    "\n",
    "from surprise import Dataset\n",
    "from surprise import evaluate, print_perf\n",
    "from surprise import Reader\n",
    "import pandas as pd\n",
    "from os import path\n",
    "\n",
    "train_file = path.expanduser('./full-train.csv')\n",
    "test_file = path.expanduser('./full-test.csv')\n",
    "\n",
    "#reader = Reader(line_format='userID gameID rating', sep=',', rating_scale=(1, 10))\n",
    "reader = Reader(line_format='user item rating', sep=',', skip_lines=1, rating_scale=(1, 10))\n",
    "folds_files = [(train_file % i, test_file % i) for i in (1, 2, 3, 4, 5, 6, 7, 8 , 9, 10)]\n",
    "data = Dataset.load_from_folds(folds_files, reader=reader)\n",
    "\n",
    "#SVD - param_grid = {'n_epochs': [10], 'reg_all': [0.02], 'biased': [True]}\n",
    "# 1.1889 / 0.7134\n",
    "\n",
    "param_grid = {'n_epochs': [10], 'reg_all': [0.02], 'lr_all': [0.05, 0.07]}\n",
    "grid_search = GridSearch(SVDpp, param_grid, measures=['RMSE', 'FCP'],\n",
    "                         verbose=True)\n",
    "grid_search.evaluate(data)\n",
    "\n",
    "#1.29126127498\n",
    "#{'bsl_options': {'method': 'als', 'reg': 1}, 'k': 3, 'sim_options': {'name': 'msd', 'min_support': 1, 'user_based': False}}\n",
    "#0.680624884689\n",
    "#{'bsl_options': {'method': 'als', 'reg': 1}, 'k': 3, 'sim_options': {'name': 'msd', 'min_support': 1, 'user_based': False}}\n",
    "\n",
    "# best RMSE score\n",
    "print(grid_search.best_score['RMSE'])\n",
    "# >>> 0.96117566386\n",
    "\n",
    "# combination of parameters that gave the best RMSE score\n",
    "print(grid_search.best_params['RMSE'])\n",
    "# >>> {'reg_all': 0.4, 'lr_all': 0.005, 'n_epochs': 10}\n",
    "\n",
    "# best FCP score\n",
    "print(grid_search.best_score['FCP'])\n",
    "# >>> 0.702279736531\n",
    "\n",
    "# combination of parameters that gave the best FCP score\n",
    "print(grid_search.best_params['FCP'])"
   ]
  },
  {
   "cell_type": "code",
   "execution_count": null,
   "metadata": {
    "collapsed": true
   },
   "outputs": [],
   "source": []
  },
  {
   "cell_type": "code",
   "execution_count": null,
   "metadata": {
    "collapsed": true
   },
   "outputs": [],
   "source": []
  }
 ],
 "metadata": {
  "kernelspec": {
   "display_name": "Python 3",
   "language": "python",
   "name": "python3"
  },
  "language_info": {
   "codemirror_mode": {
    "name": "ipython",
    "version": 3
   },
   "file_extension": ".py",
   "mimetype": "text/x-python",
   "name": "python",
   "nbconvert_exporter": "python",
   "pygments_lexer": "ipython3",
   "version": "3.6.3"
  }
 },
 "nbformat": 4,
 "nbformat_minor": 2
}
