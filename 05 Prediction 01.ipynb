{
 "cells": [
  {
   "cell_type": "code",
   "execution_count": 4,
   "metadata": {},
   "outputs": [],
   "source": [
    "import pandas as pd\n",
    "\n",
    "usum = pd.read_csv('usum.csv', sep='\\t', index_col=0)\n",
    "gsum = pd.read_csv('gsum.csv', sep='\\t', index_col='userID')\n",
    "unbr = pd.read_csv('uneighbors.csv', sep='\\t', index_col=0)\n",
    "gnbr = pd.read_csv('gneighbors.csv', sep='\\t', index_col=0)\n",
    "del gnbr['1']\n",
    "del unbr['1']\n",
    "        \n",
    "# user neighbors mean scores for the game\n",
    "# averaged with\n",
    "# game neighbors mean scores for the user\n",
    "def predict(gameID, userID):\n",
    "    global usum, gsum, unbr, gnbr\n",
    "    # Series of games in rank - neighbors of original\n",
    "    #display(gnbr.loc['gameID_'+gameID])\n",
    "    # All the scores for one game\n",
    "    #display(usum.loc['gameID_'+gameID])\n",
    "    # Series of users in rank - neighbors of original\n",
    "    #display(unbr.loc[userID])\n",
    "    # All the ratings from one user\n",
    "    #display(gsum.loc[userID])\n",
    "    gameList = gnbr.loc[['gameID_'+gameID]].transpose()\n",
    "    gameList = gameList[gameList.columns[0]].tolist()\n",
    "    #display(gnbr.head(3))\n",
    "    #display(gsum.head(5))\n",
    "    #display(gsum.loc[[userID]])\n",
    "    \n",
    "    # median of user scores for neighboring games\n",
    "    gavg = gsum.loc[[userID]][gameList].transpose().median()\n",
    "    #display(gavg)\n",
    "    \n",
    "    userList = unbr.loc[[userID]].transpose()\n",
    "    userList = list(map(str, userList[userList.columns[0]].tolist()))\n",
    "    # userList are numbers, but need string references for column list\n",
    "    #display(userList)\n",
    "    #display(usum.loc[['gameID_'+gameID]][userList])\n",
    "    uavg = usum.loc[['gameID_'+gameID]][userList].transpose().median()\n",
    "    return (uavg.values[0]+gavg.values[0])/2\n",
    "\n",
    "#display(gsum.index)\n",
    "\n",
    "#predict('13', 272)\n",
    "test = pd.read_csv('boardgame-users-test.csv', sep=',')\n",
    "for index, row in test.iterrows():\n",
    "    gid = str(int(row.values[1]))\n",
    "    uid = int(row.values[0])\n",
    "    #display(uid)\n",
    "#    display(row['gameID'])\n",
    "    if uid in gsum.index:\n",
    "        rating = predict(gid, uid)\n",
    "        test.iloc[index:index+1,2:3] = rating\n",
    "    \n",
    "test.to_csv('filled-test-tgreiser.csv', sep='\\t')"
   ]
  },
  {
   "cell_type": "code",
   "execution_count": null,
   "metadata": {
    "collapsed": true
   },
   "outputs": [],
   "source": []
  }
 ],
 "metadata": {
  "kernelspec": {
   "display_name": "Python 3",
   "language": "python",
   "name": "python3"
  },
  "language_info": {
   "codemirror_mode": {
    "name": "ipython",
    "version": 3
   },
   "file_extension": ".py",
   "mimetype": "text/x-python",
   "name": "python",
   "nbconvert_exporter": "python",
   "pygments_lexer": "ipython3",
   "version": "3.6.3"
  }
 },
 "nbformat": 4,
 "nbformat_minor": 2
}
