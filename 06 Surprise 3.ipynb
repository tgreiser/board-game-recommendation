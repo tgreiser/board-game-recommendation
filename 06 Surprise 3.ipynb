{
 "cells": [
  {
   "cell_type": "code",
   "execution_count": 2,
   "metadata": {},
   "outputs": [
    {
     "name": "stdout",
     "output_type": "stream",
     "text": [
      "Evaluating RMSE, MAE of algorithm BaselineOnly.\n",
      "\n",
      "------------\n",
      "Fold 1\n",
      "Estimating biases using als...\n",
      "RMSE: 1.2665\n",
      "MAE:  0.9346\n",
      "------------\n",
      "Fold 2\n",
      "Estimating biases using als...\n",
      "RMSE: 1.2679\n",
      "MAE:  0.9353\n",
      "------------\n",
      "Fold 3\n",
      "Estimating biases using als...\n",
      "RMSE: 1.2565\n",
      "MAE:  0.9280\n",
      "------------\n",
      "Fold 4\n",
      "Estimating biases using als...\n",
      "RMSE: 1.2684\n",
      "MAE:  0.9365\n",
      "------------\n",
      "Fold 5\n",
      "Estimating biases using als...\n",
      "RMSE: 1.2666\n",
      "MAE:  0.9377\n",
      "------------\n",
      "Fold 6\n",
      "Estimating biases using als...\n",
      "RMSE: 1.2670\n",
      "MAE:  0.9368\n",
      "------------\n",
      "Fold 7\n",
      "Estimating biases using als...\n",
      "RMSE: 1.2552\n",
      "MAE:  0.9274\n",
      "------------\n",
      "Fold 8\n",
      "Estimating biases using als...\n",
      "RMSE: 1.2645\n",
      "MAE:  0.9321\n",
      "------------\n",
      "Fold 9\n",
      "Estimating biases using als...\n",
      "RMSE: 1.2673\n",
      "MAE:  0.9344\n",
      "------------\n",
      "Fold 10\n",
      "Estimating biases using als...\n",
      "RMSE: 1.2637\n",
      "MAE:  0.9326\n",
      "------------\n",
      "------------\n",
      "Mean RMSE: 1.2644\n",
      "Mean MAE : 0.9335\n",
      "------------\n",
      "------------\n",
      "        Fold 1  Fold 2  Fold 3  Fold 4  Fold 5  Fold 6  Fold 7  Fold 8  Fold 9  Fold 10 Mean    \n",
      "RMSE    1.2665  1.2679  1.2565  1.2684  1.2666  1.2670  1.2552  1.2645  1.2673  1.2637  1.2644  \n",
      "MAE     0.9346  0.9353  0.9280  0.9365  0.9377  0.9368  0.9274  0.9321  0.9344  0.9326  0.9335  \n"
     ]
    }
   ],
   "source": [
    "from surprise import *\n",
    "\n",
    "from surprise import Dataset\n",
    "from surprise import evaluate, print_perf\n",
    "from surprise import Reader\n",
    "import pandas as pd\n",
    "from os import path\n",
    "\n",
    "file_path = path.expanduser('./boardgame-frequent-users.csv')\n",
    "\n",
    "#reader = Reader(line_format='userID gameID rating', sep=',', rating_scale=(1, 10))\n",
    "reader = Reader(line_format='user item rating', sep=',', skip_lines=1, rating_scale=(1, 10))\n",
    "data = Dataset.load_from_file(file_path, reader=reader)\n",
    "data.split(n_folds=10)\n",
    "\n",
    "algo = BaselineOnly()\n",
    "\n",
    "# Evaluate performances of our algorithm on the dataset.\n",
    "perf = evaluate(algo, data, measures=['RMSE', 'MAE'])\n",
    "\n",
    "print_perf(perf)"
   ]
  },
  {
   "cell_type": "code",
   "execution_count": null,
   "metadata": {
    "collapsed": true
   },
   "outputs": [],
   "source": []
  },
  {
   "cell_type": "code",
   "execution_count": null,
   "metadata": {
    "collapsed": true
   },
   "outputs": [],
   "source": []
  }
 ],
 "metadata": {
  "kernelspec": {
   "display_name": "Python 3",
   "language": "python",
   "name": "python3"
  },
  "language_info": {
   "codemirror_mode": {
    "name": "ipython",
    "version": 3
   },
   "file_extension": ".py",
   "mimetype": "text/x-python",
   "name": "python",
   "nbconvert_exporter": "python",
   "pygments_lexer": "ipython3",
   "version": "3.6.3"
  }
 },
 "nbformat": 4,
 "nbformat_minor": 2
}
