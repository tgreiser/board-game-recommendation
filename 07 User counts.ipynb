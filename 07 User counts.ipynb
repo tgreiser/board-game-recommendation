{
 "cells": [
  {
   "cell_type": "code",
   "execution_count": null,
   "metadata": {},
   "outputs": [
   ],
   "source": [
    "import pandas as pd\n",
    "from random import random\n",
    "\n",
    "X = pd.read_csv('boardgame-users.csv')\n",
    "X = X.rename(columns = {\"Compiled from boardgamegeek.com by Matt Borthwick\":'userID'})\n",
    "X.set_index('userID')\n",
    "X = X.sample(frac=1)\n",
    "\n",
    "counts = X.groupby(['userID']).size().sort_values()\n",
    "display(counts.head(5))\n",
    "\n",
    "counts.to_csv('user_counts.csv')\n",
    "\n",
    "total = X.shape[0]\n",
    "testCount = int(total * .3)\n",
    "\n",
    "train = []\n",
    "test = []\n",
    "\n",
    "for index, row in X.iterrows():\n",
    "    uid = int(row.values[0])\n",
    "    display(uid)\n",
    "    prob = 0.0\n",
    "    if counts[uid] > 2:\n",
    "        prob = 0.05\n",
    "    elif counts[uid] > 5:\n",
    "        prob = 0.1\n",
    "    elif counts[uid] > 12:\n",
    "        prob = 0.2\n",
    "    elif counts[uid] > 16:\n",
    "        prob = 0.35\n",
    "    \n",
    "    if len(test) < testCount and random() < prob:\n",
    "        test.append(row)\n",
    "    else:\n",
    "        train.append(row)\n",
    "\n",
    "train.to_csv('full-train.csv')\n",
    "test.to_csv('full-test.csv')"
   ]
  },
  {
   "cell_type": "code",
   "execution_count": null,
   "metadata": {
    "collapsed": true
   },
   "outputs": [],
   "source": []
  }
 ],
 "metadata": {
  "kernelspec": {
   "display_name": "Python 3",
   "language": "python",
   "name": "python3"
  },
  "language_info": {
   "codemirror_mode": {
    "name": "ipython",
    "version": 3
   },
   "file_extension": ".py",
   "mimetype": "text/x-python",
   "name": "python",
   "nbconvert_exporter": "python",
   "pygments_lexer": "ipython3",
   "version": "3.6.3"
  }
 },
 "nbformat": 4,
 "nbformat_minor": 2
}
