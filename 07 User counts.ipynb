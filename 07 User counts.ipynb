{
 "cells": [
  {
   "cell_type": "code",
   "execution_count": 9,
   "metadata": {},
   "outputs": [
    {
     "data": {
      "text/plain": [
       "'Begin'"
      ]
     },
     "metadata": {},
     "output_type": "display_data"
    },
    {
     "data": {
      "text/plain": [
       "userID\n",
       "193541    1\n",
       "153117    1\n",
       "48317     1\n",
       "153115    1\n",
       "153114    1\n",
       "dtype: int64"
      ]
     },
     "metadata": {},
     "output_type": "display_data"
    },
    {
     "data": {
      "text/plain": [
       "1544587"
      ]
     },
     "metadata": {},
     "output_type": "display_data"
    },
    {
     "data": {
      "text/plain": [
       "4636551"
      ]
     },
     "metadata": {},
     "output_type": "display_data"
    },
    {
     "data": {
      "text/plain": [
       "512074"
      ]
     },
     "metadata": {},
     "output_type": "display_data"
    },
    {
     "data": {
      "text/plain": [
       "0.11044287014205172"
      ]
     },
     "metadata": {},
     "output_type": "display_data"
    }
   ],
   "source": [
    "import pandas as pd\n",
    "from random import random, seed\n",
    "\n",
    "\n",
    "display('Begin')\n",
    "seed()\n",
    "X = pd.read_csv('boardgame-users.csv')\n",
    "X = X.rename(columns = {\"Compiled from boardgamegeek.com by Matt Borthwick\":'userID'})\n",
    "X.set_index('userID')\n",
    "X = X.sample(frac=1)\n",
    "\n",
    "counts = X.groupby(['userID']).size().sort_values()\n",
    "display(counts.head(5))\n",
    "\n",
    "counts.to_csv('user_counts.csv')\n",
    "\n",
    "total = X.shape[0]\n",
    "testCount = int(total * .3)\n",
    "\n",
    "display(testCount)\n",
    "\n",
    "train = []\n",
    "test = []\n",
    "\n",
    "for index, row in X.iterrows():\n",
    "    uid = int(row.values[0])\n",
    "    prob = 0.0\n",
    "    if counts[uid] > 1:\n",
    "        prob = 0.1\n",
    "    elif counts[uid] > 2:\n",
    "        prob = 0.2\n",
    "    elif counts[uid] > 3:\n",
    "        prob = 0.3\n",
    "    elif counts[uid] > 4:\n",
    "        prob = 0.4\n",
    "    elif counts[uid] > 5:\n",
    "        prob = 0.6\n",
    "    elif counts[uid] > 6:\n",
    "        prob = 0.8\n",
    "    elif counts[uid] > 7:\n",
    "        prob = 0.9\n",
    "    elif counts[uid] > 8:\n",
    "        prob = 0.95\n",
    "    \n",
    "    if len(test) < testCount and random() < prob:\n",
    "        test.append(row)\n",
    "        counts[uid] -= 1\n",
    "    else:\n",
    "        train.append(row)\n",
    "\n",
    "display(len(train))\n",
    "display(len(test))\n",
    "display(len(test)/len(train))\n",
    "pd.DataFrame(train).to_csv('full-train.csv')\n",
    "pd.DataFrame(test).to_csv('full-test.csv')"
   ]
  },
  {
   "cell_type": "code",
   "execution_count": null,
   "metadata": {
    "collapsed": true
   },
   "outputs": [],
   "source": []
  }
 ],
 "metadata": {
  "kernelspec": {
   "display_name": "Python 3",
   "language": "python",
   "name": "python3"
  },
  "language_info": {
   "codemirror_mode": {
    "name": "ipython",
    "version": 3
   },
   "file_extension": ".py",
   "mimetype": "text/x-python",
   "name": "python",
   "nbconvert_exporter": "python",
   "pygments_lexer": "ipython3",
   "version": "3.6.3"
  }
 },
 "nbformat": 4,
 "nbformat_minor": 2
}
